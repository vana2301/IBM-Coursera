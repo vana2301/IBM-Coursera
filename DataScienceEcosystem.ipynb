{
 "cells": [
  {
   "cell_type": "markdown",
   "id": "27e57edf-c6d4-4135-b98d-43c1612db06f",
   "metadata": {},
   "source": [
    "#  Data Science Tools and Ecosystem"
   ]
  },
  {
   "cell_type": "markdown",
   "id": "dc853cc1-ba7d-40d3-b374-8538aa1dcc95",
   "metadata": {
    "tags": []
   },
   "source": [
    "In this notebook, Data Science Tools and Ecosystem are summarized."
   ]
  },
  {
   "cell_type": "markdown",
   "id": "1c0acd58-4469-44a7-8ed2-5c70070f020f",
   "metadata": {},
   "source": [
    "__Objectives:__\n",
    "- bolds\n",
    "- italics\n",
    "- cells\n",
    "- DS languages\n",
    "- Python"
   ]
  },
  {
   "cell_type": "markdown",
   "id": "af0080f7-9026-4751-b7e3-45315db50fad",
   "metadata": {},
   "source": [
    "Some of the popular languages that Data Scientist use are:\n",
    " - SQL\n",
    " - Visual Basic \n",
    " - Python"
   ]
  },
  {
   "cell_type": "markdown",
   "id": "e550deeb-6a65-4e2b-8182-245afae28527",
   "metadata": {
    "tags": []
   },
   "source": [
    "Some of the commonly used libraries used by Data Scientists include:\n",
    "1. TensorFlow\n",
    "2. Numpy\n",
    "3. Scipy"
   ]
  },
  {
   "cell_type": "code",
   "execution_count": null,
   "id": "c1044794-a90c-4fa8-85f3-7509e8a2e1f1",
   "metadata": {},
   "outputs": [],
   "source": []
  },
  {
   "cell_type": "markdown",
   "id": "46022cfc-dd32-488e-b3b5-51a3d6a4f1cb",
   "metadata": {
    "tags": []
   },
   "source": [
    "|Data Science Tools|\n",
    "|------------------|\n",
    "|      Rstudio     |\n",
    "|     ApacheSpark  |\n",
    "|     TensorFlow   |"
   ]
  },
  {
   "cell_type": "markdown",
   "id": "6ab7ada4-ab1b-4ef9-857c-76ba4c368779",
   "metadata": {
    "tags": []
   },
   "source": [
    "### Below are a few examples of evaluating arithmetic expressions in Python."
   ]
  },
  {
   "cell_type": "code",
   "execution_count": 6,
   "id": "37e7e2cb-3086-4353-9704-29cabebce530",
   "metadata": {
    "tags": []
   },
   "outputs": [
    {
     "data": {
      "text/plain": [
       "17"
      ]
     },
     "execution_count": 6,
     "metadata": {},
     "output_type": "execute_result"
    }
   ],
   "source": [
    "# This is a simple arithmetic expression to multiply then add integers\n",
    "(3*4)+5\n"
   ]
  },
  {
   "cell_type": "code",
   "execution_count": 7,
   "id": "e0b6ff4f-b149-4d6f-bc6e-2a03c60d3da2",
   "metadata": {
    "tags": []
   },
   "outputs": [
    {
     "data": {
      "text/plain": [
       "3.3333333333333335"
      ]
     },
     "execution_count": 7,
     "metadata": {},
     "output_type": "execute_result"
    }
   ],
   "source": [
    "# This will coonvert 200 minutes to hours by dividing by 60.\n",
    "200/60"
   ]
  },
  {
   "cell_type": "markdown",
   "id": "67c9d084-abb6-4673-b646-7684a2d49bfb",
   "metadata": {},
   "source": [
    "## Author\n",
    "Vanaxel Gro."
   ]
  },
  {
   "cell_type": "code",
   "execution_count": null,
   "id": "6e2afe4c-5886-4d34-8ec4-f0ffc3da6238",
   "metadata": {},
   "outputs": [],
   "source": []
  }
 ],
 "metadata": {
  "kernelspec": {
   "display_name": "Python 3 (ipykernel)",
   "language": "python",
   "name": "python3"
  },
  "language_info": {
   "codemirror_mode": {
    "name": "ipython",
    "version": 3
   },
   "file_extension": ".py",
   "mimetype": "text/x-python",
   "name": "python",
   "nbconvert_exporter": "python",
   "pygments_lexer": "ipython3",
   "version": "3.11.4"
  }
 },
 "nbformat": 4,
 "nbformat_minor": 5
}
